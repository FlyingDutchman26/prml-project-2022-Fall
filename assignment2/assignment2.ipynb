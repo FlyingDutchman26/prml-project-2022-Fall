{
 "cells": [
  {
   "cell_type": "markdown",
   "metadata": {
    "collapsed": false
   },
   "source": [
    "# Fudan RPML Assignment2: Deep Learning Meets News"
   ]
  },
  {
   "cell_type": "markdown",
   "metadata": {
    "collapsed": false
   },
   "source": [
    "![news](./news.png)"
   ]
  },
  {
   "cell_type": "markdown",
   "metadata": {
    "collapsed": false
   },
   "source": [
    "**Your name and Student ID: [李培基], [20307140044]**\n",
    "\n",
    "Complete and hand in this completed worksheet (including its outputs and any supporting code outside of the worksheet) with your assignment submission."
   ]
  },
  {
   "cell_type": "markdown",
   "metadata": {
    "collapsed": false
   },
   "source": [
    "In this assignment, you will build a **text classification** system which is a fundamental task in the field of Natural Language Processing (NLP). More precisely, you are given a news classification task, assigning given news texts to the categories to which they belong. Unlike traditional classification tasks, **we did not provide you with any labels for this assignment, and you need to find a way to construct labels for these articles**. "
   ]
  },
  {
   "cell_type": "markdown",
   "metadata": {
    "collapsed": false
   },
   "source": [
    "For this assignment you can use commonly used deep learning frameworks like paddle and pytorch, and **should use at least one kind of deep neural network for this task**. **You can use pretrained word vectors like Glove, but not pretrained large models like BERT.**"
   ]
  },
  {
   "cell_type": "markdown",
   "metadata": {
    "collapsed": false
   },
   "source": [
    "# 1. Setup"
   ]
  },
  {
   "cell_type": "code",
   "execution_count": 15,
   "metadata": {
    "collapsed": false
   },
   "outputs": [
    {
     "name": "stdout",
     "output_type": "stream",
     "text": [
      "The autoreload extension is already loaded. To reload it, use:\n",
      "  %reload_ext autoreload\n"
     ]
    }
   ],
   "source": [
    "# setup code\n",
    "%load_ext autoreload\n",
    "%autoreload 2\n",
    "import pickle\n",
    "import matplotlib.pyplot as plt\n",
    "import numpy as np\n",
    "import jieba\n",
    "args = {\n",
    "    'learning_rate':0.0004, \n",
    "    'first_momentum':0.9,\n",
    "    'second_momentum':0.999,\n",
    "    'batch_size':32,\n",
    "    'len_feature':300, # embedding_dim\n",
    "    'hidden_size':50,\n",
    "    'dropout':0.5,\n",
    "    'iter_times':50,\n",
    "    'num_class':4\n",
    "}"
   ]
  },
  {
   "cell_type": "code",
   "execution_count": 2,
   "metadata": {
    "collapsed": false
   },
   "outputs": [
    {
     "name": "stdout",
     "output_type": "stream",
     "text": [
      "什么企业适合开展融资租赁业务？你不看，真的吃大亏了！\n",
      "你见过苗寨里待客的方式吗？网友调侃：这才是真正的不醉不归啊！\n"
     ]
    }
   ],
   "source": [
    "dataset_path = 'assignment2_news.pkl'\n",
    "\n",
    "all_data = None\n",
    "with open(dataset_path,'rb') as fin:\n",
    "    all_data = pickle.load(fin)\n",
    "\n",
    "print(all_data[10343])\n",
    "print(all_data[78883])\n",
    "# 明显，这是一个中文新闻标题数据集"
   ]
  },
  {
   "cell_type": "markdown",
   "metadata": {
    "collapsed": false
   },
   "source": [
    "# 2. Exploratory Data Analysis (5 points)"
   ]
  },
  {
   "cell_type": "code",
   "execution_count": 24,
   "metadata": {
    "collapsed": false
   },
   "outputs": [
    {
     "name": "stdout",
     "output_type": "stream",
     "text": [
      "数据集句子总数 83360\n",
      "数据集字符最长/最短长度: 145 / 2\n",
      "数据集中最长字符的句子:\n",
      " 【定了！中日双方签署有关经贸合作协议】5月9日，在李克强总理和安倍晋三首相共同见证下，中国商务部钟山部长与日本经济产业大臣世耕弘成共同签署了《关于加强服务贸易合作的备忘录》，中国国家发展改革委、商务部与日本外务省、经济产业省共同签署了《关于中日第三方市场合作的备忘录》。详细内容，请戳大图↓\n",
      "数据集中最短字符的句子:\n",
      " 美国\n",
      "数据集中句子字符长度平均值: 22.235280710172745\n",
      "数据集中句子字符长度超过 50 的句子数目: 66 / 83360\n",
      "因此结合句子长度分布图，我们有理由在后续处理时对句子长度进行截取\n"
     ]
    },
    {
     "data": {
      "image/png": "[encoded data removed]",
      "text/plain": [
       "<Figure size 640x480 with 1 Axes>"
      ]
     },
     "metadata": {},
     "output_type": "display_data"
    }
   ],
   "source": [
    "%matplotlib inline\n",
    "print('数据集句子总数',len(all_data))\n",
    "min_len = 9999\n",
    "max_len = 0\n",
    "id_1 = -1\n",
    "id_2 = -1\n",
    "len_list = []\n",
    "for idx,sentence in enumerate(all_data,0):\n",
    "    l = len(sentence)\n",
    "    if l > max_len:\n",
    "        max_len = l\n",
    "        id_1 = idx\n",
    "    if l < min_len:\n",
    "        min_len = l\n",
    "        id_2 = idx\n",
    "    len_list.append(l)\n",
    "print('数据集字符最长/最短长度:',max_len,'/',min_len)\n",
    "print('数据集中最长字符的句子:\\n',all_data[id_1])\n",
    "print('数据集中最短字符的句子:\\n',all_data[id_2])\n",
    "print('数据集中句子字符长度平均值:',sum(len_list)/len(len_list))\n",
    "print('数据集中句子字符长度超过 50 的句子数目:',sum(np.array(len_list) > 50),'/',len(all_data))\n",
    "print('因此结合句子长度分布图，我们有理由在后续处理时对句子长度进行截取')\n",
    "plt.title('Proportion of sequence length')\n",
    "plt.hist(len_list)\n",
    "plt.show()"
   ]
  },
  {
   "cell_type": "code",
   "execution_count": 50,
   "metadata": {},
   "outputs": [
    {
     "name": "stdout",
     "output_type": "stream",
     "text": [
      "<generator object Tokenizer.cut at 0x7f5b1d37b2a0>\n",
      "【 定 了 ！ 中日 双方 签署 有关 经贸合作 协议 】 5 月 9 日 ， 在 李克强 总理 和 安倍晋三 首相 共同 见证 下 ， 中国 商务部 钟山 部长 与 日本 经济 产业 大臣 世耕弘成 共同 签署 了 《 关于 加强 服务 贸易 合作 的 备忘录 》 ， 中国 国家 发展 改革 委 、 商务部 与 日本外务省 、 经济 产业省 共同 签署 了 《 关于 中日 第三方 市场 合作 的 备忘录 》 。 详细 内容 ， 请 戳 大图 ↓\n",
      "['【', '定', '了', '！', '中日', '双方', '签署', '有关', '经贸合作', '协议', '】', '5', '月', '9', '日', '，', '在', '李克强', '总理', '和', '安倍晋三', '首相', '共同', '见证', '下', '，', '中国', '商务部', '钟山', '部长', '与', '日本', '经济', '产业', '大臣', '世耕弘成', '共同', '签署', '了', '《', '关于', '加强', '服务', '贸易', '合作', '的', '备忘录', '》', '，', '中国', '国家', '发展', '改革', '委', '、', '商务部', '与', '日本外务省', '、', '经济', '产业省', '共同', '签署', '了', '《', '关于', '中日', '第三方', '市场', '合作', '的', '备忘录', '》', '。', '详细', '内容', '，', '请', '戳', '大图', '↓']\n"
     ]
    }
   ],
   "source": [
    "import jieba\n",
    "seg_list = jieba.cut(\"【定了！中日双方签署有关经贸合作协议】5月9日，在李克强总理和安倍晋三首相共同见证下，中国商务部钟山部长与日本经济产业大臣世耕弘成共同签署了《关于加强服务贸易合作的备忘录》，中国国家发展改革委、商务部与日本外务省、经济产业省共同签署了《关于中日第三方市场合作的备忘录》。详细内容，请戳大图↓\")  # 默认是精确模式\n",
    "print(seg_list)\n",
    "print(\" \".join(seg_list))\n",
    "seg_list = jieba.lcut(\"【定了！中日双方签署有关经贸合作协议】5月9日，在李克强总理和安倍晋三首相共同见证下，中国商务部钟山部长与日本经济产业大臣世耕弘成共同签署了《关于加强服务贸易合作的备忘录》，中国国家发展改革委、商务部与日本外务省、经济产业省共同签署了《关于中日第三方市场合作的备忘录》。详细内容，请戳大图↓\")\n",
    "print(seg_list) "
   ]
  },
  {
   "cell_type": "markdown",
   "metadata": {
    "collapsed": false
   },
   "source": [
    "# 3. Construct the Labels (40 points)"
   ]
  },
  {
   "cell_type": "markdown",
   "metadata": {},
   "source": [
    "在这个阶段中可以先暂时不划分训练测试验证集"
   ]
  },
  {
   "cell_type": "code",
   "execution_count": 3,
   "metadata": {
    "collapsed": false
   },
   "outputs": [],
   "source": [
    "# 加载预训练的word_embedding [365076,300]\n",
    "with open('sgns.sogou.char','rb') as f:\n",
    "    lines = f.readlines()\n",
    "    \n",
    "trained_dict = dict()\n",
    "n = len(lines)  # 为预训练文件总行数\n",
    "embedding_dim = len(lines[1].split())-1\n",
    "for i in range(1,n):\n",
    "    # 因为第一行不是数据 共365076的词/字 每个被映射到300维空间\n",
    "    line = lines[i].split()\n",
    "    trained_dict[line[0].decode('utf-8')] = [float(line[j]) for j in range(1,embedding_dim+1)]"
   ]
  },
  {
   "cell_type": "code",
   "execution_count": 4,
   "metadata": {},
   "outputs": [
    {
     "name": "stderr",
     "output_type": "stream",
     "text": [
      "Building prefix dict from the default dictionary ...\n",
      "Loading model from cache /tmp/jieba.cache\n",
      "Loading model cost 1.132 seconds.\n",
      "Prefix dict has been built successfully.\n"
     ]
    }
   ],
   "source": [
    "# 用jieba 进行中文分词\n",
    "data = []\n",
    "for sentence in all_data:\n",
    "    seg_list = jieba.lcut(sentence)\n",
    "    data.append(seg_list)"
   ]
  },
  {
   "cell_type": "code",
   "execution_count": 57,
   "metadata": {},
   "outputs": [
    {
     "name": "stdout",
     "output_type": "stream",
     "text": [
      "数据集句子总数 83360\n",
      "数据集最长/最短长度: 85 / 1\n",
      "数据集中最多词的句子:\n",
      " ['这个', '周日', '#', '母亲节', '#', ' ', '又', '要', '到', '啦', '！', '我们', '特别', '采访', '了', '田径队', '的', '小伙伴', '们', '，', '请', '他们', '回答', '了', '几个', '关于', '妈妈', '的', '问题', '~', '他们', '最爱', '吃', '妈妈', '做', '的', '哪', '道菜', '？', '[', '爱慕', ']', '最想', '送给', '妈妈', '什么', '礼物', '？', '[', '礼物', ']', '你', '的', '答案', '和', '他们', '一样', '吗', '？', '你', '对', '妈妈', '有', '怎样', '的', '祝福', '？', '前进', '的', '路上', '，', '不负', '光阴', '，', '和', '我们', '一起', '#', '为', '妈妈', '而战', '#', ' ', '！', ' ']\n",
      "数据集中最少词的句子:\n",
      " ['美国']\n",
      "数据集中词长度长度平均值: 12.945165547024953\n",
      "数据集中词数量超过 30 的句子数目: 62 / 83360\n"
     ]
    }
   ],
   "source": [
    "# 使用中文分词后 数据集句子的长度分析\n",
    "print('数据集句子总数',len(data))\n",
    "min_len = 9999\n",
    "max_len = 0\n",
    "id_1 = -1\n",
    "id_2 = -1\n",
    "len_list = []\n",
    "for idx,sentence in enumerate(data,0):\n",
    "    l = len(sentence)\n",
    "    if l > max_len:\n",
    "        max_len = l\n",
    "        id_1 = idx\n",
    "    if l < min_len:\n",
    "        min_len = l\n",
    "        id_2 = idx\n",
    "    len_list.append(l)\n",
    "print('数据集最长/最短长度:',max_len,'/',min_len)\n",
    "print('数据集中最多词的句子:\\n',data[id_1])\n",
    "print('数据集中最少词的句子:\\n',data[id_2])\n",
    "print('数据集中词长度长度平均值:',sum(len_list)/len(len_list))\n",
    "print('数据集中词数量超过 30 的句子数目:',sum(np.array(len_list) > 30),'/',len(data))"
   ]
  },
  {
   "cell_type": "code",
   "execution_count": 19,
   "metadata": {},
   "outputs": [],
   "source": [
    "import torch\n",
    "class Embedding():\n",
    "    def __init__(self,trained_dict,data,args) -> None:\n",
    "        self.dict_words = {}    # 单词映射到自然数的字典\n",
    "        self.sentence_matrix = []   # 数据集中句子的矩阵表示（每个词为一个自然数）\n",
    "        self.embedding_matrix = [] # embedding矩阵，每个word_vector对应的下标id为相应的词\n",
    "        self.trained_dict = trained_dict  # 预训练的词典：词与word_vector的对应\n",
    "        self.embedding_dim = args['len_feature']\n",
    "        self.data = data\n",
    "    \n",
    "    def get_words(self):\n",
    "        '''\n",
    "        此函数的目标是建立单词与自然数的映射的词典,同时建立好embedding_weight矩阵,并不处理数据集\n",
    "        '''\n",
    "        self.embedding_matrix.append([0]*300) # [PAD] id:0\n",
    "        self.embedding_matrix.append([0]*300) # [UNK] id:1\n",
    "        self.dict_words['[PAD]'] = 0\n",
    "        self.dict_words['[UNK]'] = 1\n",
    "        for word in self.trained_dict.keys():\n",
    "            if word not in self.dict_words:\n",
    "                self.dict_words[word] = len(self.dict_words) + 2\n",
    "                self.embedding_matrix.append(self.trained_dict[word])\n",
    "        mean = torch.mean(torch.tensor(self.embedding_matrix))\n",
    "        std = torch.std(torch.tensor(self.embedding_matrix))\n",
    "        unknown_vec = torch.normal(mean,std,size = [1,self.embedding_dim]).reshape(-1)\n",
    "        self.embedding_matrix[1] = unknown_vec.tolist()    # for [UNK]： Gaussian Sample 有的论文做法\n",
    "    \n",
    "    def get_id(self):\n",
    "        '''\n",
    "        这个函数目的是给数据集中的句子建立成矩阵，每个句子表示为一串id，对应着 embedding矩阵的 下标\n",
    "        '''\n",
    "        for sentence in self.data:\n",
    "            item = []\n",
    "            for word in sentence:\n",
    "                if word not in self.dict_words:\n",
    "                    item.append(self.dict_words['[UNK]'])\n",
    "                else:\n",
    "                    item.append(self.dict_words[word])\n",
    "            self.sentence_matrix.append(item)"
   ]
  },
  {
   "cell_type": "code",
   "execution_count": 20,
   "metadata": {},
   "outputs": [],
   "source": [
    "ebd = Embedding(trained_dict=trained_dict,data=data,args=args)\n",
    "ebd.get_words()"
   ]
  },
  {
   "cell_type": "code",
   "execution_count": 21,
   "metadata": {},
   "outputs": [],
   "source": [
    "ebd.get_id()"
   ]
  },
  {
   "cell_type": "code",
   "execution_count": null,
   "metadata": {},
   "outputs": [],
   "source": []
  },
  {
   "cell_type": "markdown",
   "metadata": {
    "collapsed": false
   },
   "source": [
    "# 4. News Classification (50 points)"
   ]
  },
  {
   "cell_type": "code",
   "execution_count": null,
   "metadata": {
    "collapsed": false
   },
   "outputs": [],
   "source": []
  },
  {
   "cell_type": "markdown",
   "metadata": {
    "collapsed": false
   },
   "source": [
    "# 5. Conclusion (5 points)"
   ]
  },
  {
   "cell_type": "code",
   "execution_count": null,
   "metadata": {
    "collapsed": false
   },
   "outputs": [],
   "source": []
  },
  {
   "cell_type": "markdown",
   "metadata": {
    "collapsed": false
   },
   "source": [
    "# Reference\n",
    "List your references here."
   ]
  }
 ],
 "metadata": {
  "kernelspec": {
   "display_name": "Python 3.7.0 ('nlptorch')",
   "language": "python",
   "name": "python3"
  },
  "language_info": {
   "codemirror_mode": {
    "name": "ipython",
    "version": 3
   },
   "file_extension": ".py",
   "mimetype": "text/x-python",
   "name": "python",
   "nbconvert_exporter": "python",
   "pygments_lexer": "ipython3",
   "version": "3.7.0"
  },
  "vscode": {
   "interpreter": {
    "hash": "7ea09dad9c5cbe1dfe16e763c2b738244c66046026912720282114a9d0931e6b"
   }
  }
 },
 "nbformat": 4,
 "nbformat_minor": 1
}
